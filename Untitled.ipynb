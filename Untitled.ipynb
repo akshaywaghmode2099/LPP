{
 "cells": [
  {
   "cell_type": "markdown",
   "metadata": {},
   "source": [
    "# Loan Repayment Prediction"
   ]
  },
  {
   "cell_type": "code",
   "execution_count": 20,
   "metadata": {},
   "outputs": [],
   "source": [
    "#Importing Libraries\n",
    "import pandas as pd\n",
    "import matplotlib.pyplot as  plt\n",
    "import seaborn as sns\n",
    "import numpy as np\n",
    "from sklearn.preprocessing import StandardScaler,RobustScaler,LabelEncoder\n",
    "from sklearn.model_selection import train_test_split,cross_val_score\n",
    "from sklearn.metrics import accuracy_score,confusion_matrix,classification_report\n",
    "from sklearn.ensemble import ExtraTreesRegressor\n",
    "from sklearn.linear_model import LogisticRegression"
   ]
  },
  {
   "cell_type": "code",
   "execution_count": 79,
   "metadata": {},
   "outputs": [
    {
     "data": {
      "text/plain": [
       "array(['36 months', '60 months'], dtype=object)"
      ]
     },
     "execution_count": 79,
     "metadata": {},
     "output_type": "execute_result"
    }
   ],
   "source": [
    "t=pd.read_csv('loan.csv')\n",
    "t.addr_state.unique()\n",
    "t.term.unique()"
   ]
  },
  {
   "cell_type": "code",
   "execution_count": 34,
   "metadata": {},
   "outputs": [],
   "source": [
    "#Load the Data & statistical analysis\n",
    "def load_data():\n",
    "    train=pd.read_csv('loan.csv')\n",
    "    print(train.shape)\n",
    "    print(train.info())\n",
    "    print(train.describe().T)\n",
    "    return train"
   ]
  },
  {
   "cell_type": "code",
   "execution_count": 22,
   "metadata": {},
   "outputs": [],
   "source": [
    "def feature_engg(train):\n",
    "    #Filling Missing Values\n",
    "    print(train.isnull().sum())\n",
    "    #Employee Length:Fill na values with mean\n",
    "    train['emp_length'].fillna(train['emp_length'].mean(skipna=True),inplace=True)\n",
    "    \n",
    "    #Annual Income:mean income\n",
    "    train['annual_inc'].fillna(train['annual_inc'].median(),inplace=True)\n",
    "    \n",
    "    #delinq_2 yrs\n",
    "    train['delinq_2yrs'].fillna(train['delinq_2yrs'].mean(skipna=True),inplace=True)\n",
    "    \n",
    "    #revol_util\n",
    "    train['revol_util'].fillna(train['revol_util'].median(),inplace=True)\n",
    "    \n",
    "    #revol_util\n",
    "    train['total_acc'].fillna(train['total_acc'].median(),inplace=True)\n",
    "    \n",
    "    #longest_credit_length\n",
    "    train['longest_credit_length'].fillna(train['longest_credit_length'].median(),inplace=True)\n",
    "    print(train.isnull().sum())\n",
    "    \n",
    "    #Categorical Features\n",
    "    cat_features=train.select_dtypes(include='object').columns\n",
    "    print(\"Categorical Features:\\n\",cat_features,\"\\n No of categorical features:\",len(cat_features))\n",
    "    #Converting Categorical-Numeric features using Label Encoding\n",
    "    le=LabelEncoder()\n",
    "    for feature in cat_features:\n",
    "        train[feature]=le.fit_transform(train[feature])\n",
    "    \n",
    "    #Apply log transformation to deal with skewness of annual income\n",
    "    train['annual_inc']=np.log(train['annual_inc'])\n",
    "    return train"
   ]
  },
  {
   "cell_type": "markdown",
   "metadata": {},
   "source": [
    "# Model Building"
   ]
  },
  {
   "cell_type": "code",
   "execution_count": 23,
   "metadata": {},
   "outputs": [],
   "source": [
    "def construct_model(train):\n",
    "    # Split into train and test data\n",
    "    x=train.drop('bad_loan',axis=1)\n",
    "    y=train.bad_loan\n",
    "    x_train,x_test,y_train,y_test=train_test_split(x,y,test_size=0.2,random_state=0)\n",
    "    print(x_train.shape,y_train.shape,x_test.shape,y_test.shape)\n",
    "        \n",
    "    #Feature Scaling\n",
    "    rs=RobustScaler()\n",
    "    x_train=rs.fit_transform(x_train)\n",
    "    x_test=rs.transform(x_test)\n",
    "    \n",
    "    model=LogisticRegression(solver='liblinear')\n",
    "    model.fit(x_train,y_train)\n",
    "    y_pred=model.predict(x_test)\n",
    "    print(\"Accuracy:\",accuracy_score(y_test,y_pred))\n",
    "    print(\"Confusion Matrix:\\n\",confusion_matrix(y_test,y_pred))\n",
    "    print(\"Classification Report:\\n\",classification_report(y_test,y_pred))\n",
    "\n",
    "    #Cross Validation\n",
    "    sc=RobustScaler()\n",
    "    x=sc.fit_transform(x)\n",
    "    cv_score=cross_val_score(model,x,y,cv=10)\n",
    "    print(\"Accuracy with Cross Validation:\",np.mean(cv_score))\n",
    "    return model"
   ]
  },
  {
   "cell_type": "code",
   "execution_count": 38,
   "metadata": {},
   "outputs": [
    {
     "name": "stdout",
     "output_type": "stream",
     "text": [
      "(163987, 15)\n",
      "<class 'pandas.core.frame.DataFrame'>\n",
      "RangeIndex: 163987 entries, 0 to 163986\n",
      "Data columns (total 15 columns):\n",
      " #   Column                 Non-Null Count   Dtype  \n",
      "---  ------                 --------------   -----  \n",
      " 0   loan_amnt              163987 non-null  int64  \n",
      " 1   term                   163987 non-null  object \n",
      " 2   int_rate               163987 non-null  float64\n",
      " 3   emp_length             158183 non-null  float64\n",
      " 4   home_ownership         163987 non-null  object \n",
      " 5   annual_inc             163983 non-null  float64\n",
      " 6   purpose                163987 non-null  object \n",
      " 7   addr_state             163987 non-null  object \n",
      " 8   dti                    163987 non-null  float64\n",
      " 9   delinq_2yrs            163958 non-null  float64\n",
      " 10  revol_util             163794 non-null  float64\n",
      " 11  total_acc              163958 non-null  float64\n",
      " 12  bad_loan               163987 non-null  int64  \n",
      " 13  longest_credit_length  163958 non-null  float64\n",
      " 14  verification_status    163987 non-null  object \n",
      "dtypes: float64(8), int64(2), object(5)\n",
      "memory usage: 15.6+ MB\n",
      "None\n",
      "                          count          mean           std      min  \\\n",
      "loan_amnt              163987.0  13074.169141   7993.556189   500.00   \n",
      "int_rate               163987.0     13.715904      4.391940     5.42   \n",
      "emp_length             158183.0      5.684353      3.610664     0.00   \n",
      "annual_inc             163983.0  71915.670520  59070.915655  1896.00   \n",
      "dti                    163987.0     15.881530      7.587668     0.00   \n",
      "delinq_2yrs            163958.0      0.227357      0.694168     0.00   \n",
      "revol_util             163794.0     54.079173     25.285367     0.00   \n",
      "total_acc              163958.0     24.579734     11.685190     1.00   \n",
      "bad_loan               163987.0      0.183039      0.386700     0.00   \n",
      "longest_credit_length  163958.0     14.854274      6.947733     0.00   \n",
      "\n",
      "                            25%       50%       75%         max  \n",
      "loan_amnt               7000.00  11325.00  18000.00    35000.00  \n",
      "int_rate                  10.65     13.49     16.32       26.06  \n",
      "emp_length                 2.00      6.00     10.00       10.00  \n",
      "annual_inc             45000.00  61000.00  85000.00  7141778.00  \n",
      "dti                       10.23     15.62     21.26       39.99  \n",
      "delinq_2yrs                0.00      0.00      0.00       29.00  \n",
      "revol_util                35.60     55.80     74.20      150.70  \n",
      "total_acc                 16.00     23.00     31.00      118.00  \n",
      "bad_loan                   0.00      0.00      0.00        1.00  \n",
      "longest_credit_length     10.00     14.00     18.00       65.00  \n"
     ]
    },
    {
     "data": {
      "text/html": [
       "<div>\n",
       "<style scoped>\n",
       "    .dataframe tbody tr th:only-of-type {\n",
       "        vertical-align: middle;\n",
       "    }\n",
       "\n",
       "    .dataframe tbody tr th {\n",
       "        vertical-align: top;\n",
       "    }\n",
       "\n",
       "    .dataframe thead th {\n",
       "        text-align: right;\n",
       "    }\n",
       "</style>\n",
       "<table border=\"1\" class=\"dataframe\">\n",
       "  <thead>\n",
       "    <tr style=\"text-align: right;\">\n",
       "      <th></th>\n",
       "      <th>loan_amnt</th>\n",
       "      <th>term</th>\n",
       "      <th>int_rate</th>\n",
       "      <th>emp_length</th>\n",
       "      <th>home_ownership</th>\n",
       "      <th>annual_inc</th>\n",
       "      <th>purpose</th>\n",
       "      <th>addr_state</th>\n",
       "      <th>dti</th>\n",
       "      <th>delinq_2yrs</th>\n",
       "      <th>revol_util</th>\n",
       "      <th>total_acc</th>\n",
       "      <th>bad_loan</th>\n",
       "      <th>longest_credit_length</th>\n",
       "      <th>verification_status</th>\n",
       "    </tr>\n",
       "  </thead>\n",
       "  <tbody>\n",
       "    <tr>\n",
       "      <th>0</th>\n",
       "      <td>5000</td>\n",
       "      <td>36 months</td>\n",
       "      <td>10.65</td>\n",
       "      <td>10.0</td>\n",
       "      <td>RENT</td>\n",
       "      <td>24000.0</td>\n",
       "      <td>credit_card</td>\n",
       "      <td>AZ</td>\n",
       "      <td>27.65</td>\n",
       "      <td>0.0</td>\n",
       "      <td>83.7</td>\n",
       "      <td>9.0</td>\n",
       "      <td>0</td>\n",
       "      <td>26.0</td>\n",
       "      <td>verified</td>\n",
       "    </tr>\n",
       "    <tr>\n",
       "      <th>1</th>\n",
       "      <td>2500</td>\n",
       "      <td>60 months</td>\n",
       "      <td>15.27</td>\n",
       "      <td>0.0</td>\n",
       "      <td>RENT</td>\n",
       "      <td>30000.0</td>\n",
       "      <td>car</td>\n",
       "      <td>GA</td>\n",
       "      <td>1.00</td>\n",
       "      <td>0.0</td>\n",
       "      <td>9.4</td>\n",
       "      <td>4.0</td>\n",
       "      <td>1</td>\n",
       "      <td>12.0</td>\n",
       "      <td>verified</td>\n",
       "    </tr>\n",
       "    <tr>\n",
       "      <th>2</th>\n",
       "      <td>2400</td>\n",
       "      <td>36 months</td>\n",
       "      <td>15.96</td>\n",
       "      <td>10.0</td>\n",
       "      <td>RENT</td>\n",
       "      <td>12252.0</td>\n",
       "      <td>small_business</td>\n",
       "      <td>IL</td>\n",
       "      <td>8.72</td>\n",
       "      <td>0.0</td>\n",
       "      <td>98.5</td>\n",
       "      <td>10.0</td>\n",
       "      <td>0</td>\n",
       "      <td>10.0</td>\n",
       "      <td>not verified</td>\n",
       "    </tr>\n",
       "    <tr>\n",
       "      <th>3</th>\n",
       "      <td>10000</td>\n",
       "      <td>36 months</td>\n",
       "      <td>13.49</td>\n",
       "      <td>10.0</td>\n",
       "      <td>RENT</td>\n",
       "      <td>49200.0</td>\n",
       "      <td>other</td>\n",
       "      <td>CA</td>\n",
       "      <td>20.00</td>\n",
       "      <td>0.0</td>\n",
       "      <td>21.0</td>\n",
       "      <td>37.0</td>\n",
       "      <td>0</td>\n",
       "      <td>15.0</td>\n",
       "      <td>verified</td>\n",
       "    </tr>\n",
       "    <tr>\n",
       "      <th>4</th>\n",
       "      <td>5000</td>\n",
       "      <td>36 months</td>\n",
       "      <td>7.90</td>\n",
       "      <td>3.0</td>\n",
       "      <td>RENT</td>\n",
       "      <td>36000.0</td>\n",
       "      <td>wedding</td>\n",
       "      <td>AZ</td>\n",
       "      <td>11.20</td>\n",
       "      <td>0.0</td>\n",
       "      <td>28.3</td>\n",
       "      <td>12.0</td>\n",
       "      <td>0</td>\n",
       "      <td>7.0</td>\n",
       "      <td>verified</td>\n",
       "    </tr>\n",
       "  </tbody>\n",
       "</table>\n",
       "</div>"
      ],
      "text/plain": [
       "   loan_amnt       term  int_rate  emp_length home_ownership  annual_inc  \\\n",
       "0       5000  36 months     10.65        10.0           RENT     24000.0   \n",
       "1       2500  60 months     15.27         0.0           RENT     30000.0   \n",
       "2       2400  36 months     15.96        10.0           RENT     12252.0   \n",
       "3      10000  36 months     13.49        10.0           RENT     49200.0   \n",
       "4       5000  36 months      7.90         3.0           RENT     36000.0   \n",
       "\n",
       "          purpose addr_state    dti  delinq_2yrs  revol_util  total_acc  \\\n",
       "0     credit_card         AZ  27.65          0.0        83.7        9.0   \n",
       "1             car         GA   1.00          0.0         9.4        4.0   \n",
       "2  small_business         IL   8.72          0.0        98.5       10.0   \n",
       "3           other         CA  20.00          0.0        21.0       37.0   \n",
       "4         wedding         AZ  11.20          0.0        28.3       12.0   \n",
       "\n",
       "   bad_loan  longest_credit_length verification_status  \n",
       "0         0                   26.0            verified  \n",
       "1         1                   12.0            verified  \n",
       "2         0                   10.0        not verified  \n",
       "3         0                   15.0            verified  \n",
       "4         0                    7.0            verified  "
      ]
     },
     "execution_count": 38,
     "metadata": {},
     "output_type": "execute_result"
    }
   ],
   "source": [
    "df=load_data()\n",
    "df.head()"
   ]
  },
  {
   "cell_type": "code",
   "execution_count": 54,
   "metadata": {},
   "outputs": [
    {
     "name": "stdout",
     "output_type": "stream",
     "text": [
      "(163987, 15)\n",
      "<class 'pandas.core.frame.DataFrame'>\n",
      "RangeIndex: 163987 entries, 0 to 163986\n",
      "Data columns (total 15 columns):\n",
      " #   Column                 Non-Null Count   Dtype  \n",
      "---  ------                 --------------   -----  \n",
      " 0   loan_amnt              163987 non-null  int64  \n",
      " 1   term                   163987 non-null  object \n",
      " 2   int_rate               163987 non-null  float64\n",
      " 3   emp_length             158183 non-null  float64\n",
      " 4   home_ownership         163987 non-null  object \n",
      " 5   annual_inc             163983 non-null  float64\n",
      " 6   purpose                163987 non-null  object \n",
      " 7   addr_state             163987 non-null  object \n",
      " 8   dti                    163987 non-null  float64\n",
      " 9   delinq_2yrs            163958 non-null  float64\n",
      " 10  revol_util             163794 non-null  float64\n",
      " 11  total_acc              163958 non-null  float64\n",
      " 12  bad_loan               163987 non-null  int64  \n",
      " 13  longest_credit_length  163958 non-null  float64\n",
      " 14  verification_status    163987 non-null  object \n",
      "dtypes: float64(8), int64(2), object(5)\n",
      "memory usage: 15.6+ MB\n",
      "None\n",
      "                          count          mean           std      min  \\\n",
      "loan_amnt              163987.0  13074.169141   7993.556189   500.00   \n",
      "int_rate               163987.0     13.715904      4.391940     5.42   \n",
      "emp_length             158183.0      5.684353      3.610664     0.00   \n",
      "annual_inc             163983.0  71915.670520  59070.915655  1896.00   \n",
      "dti                    163987.0     15.881530      7.587668     0.00   \n",
      "delinq_2yrs            163958.0      0.227357      0.694168     0.00   \n",
      "revol_util             163794.0     54.079173     25.285367     0.00   \n",
      "total_acc              163958.0     24.579734     11.685190     1.00   \n",
      "bad_loan               163987.0      0.183039      0.386700     0.00   \n",
      "longest_credit_length  163958.0     14.854274      6.947733     0.00   \n",
      "\n",
      "                            25%       50%       75%         max  \n",
      "loan_amnt               7000.00  11325.00  18000.00    35000.00  \n",
      "int_rate                  10.65     13.49     16.32       26.06  \n",
      "emp_length                 2.00      6.00     10.00       10.00  \n",
      "annual_inc             45000.00  61000.00  85000.00  7141778.00  \n",
      "dti                       10.23     15.62     21.26       39.99  \n",
      "delinq_2yrs                0.00      0.00      0.00       29.00  \n",
      "revol_util                35.60     55.80     74.20      150.70  \n",
      "total_acc                 16.00     23.00     31.00      118.00  \n",
      "bad_loan                   0.00      0.00      0.00        1.00  \n",
      "longest_credit_length     10.00     14.00     18.00       65.00  \n",
      "loan_amnt                   0\n",
      "term                        0\n",
      "int_rate                    0\n",
      "emp_length               5804\n",
      "home_ownership              0\n",
      "annual_inc                  4\n",
      "purpose                     0\n",
      "addr_state                  0\n",
      "dti                         0\n",
      "delinq_2yrs                29\n",
      "revol_util                193\n",
      "total_acc                  29\n",
      "bad_loan                    0\n",
      "longest_credit_length      29\n",
      "verification_status         0\n",
      "dtype: int64\n",
      "loan_amnt                0\n",
      "term                     0\n",
      "int_rate                 0\n",
      "emp_length               0\n",
      "home_ownership           0\n",
      "annual_inc               0\n",
      "purpose                  0\n",
      "addr_state               0\n",
      "dti                      0\n",
      "delinq_2yrs              0\n",
      "revol_util               0\n",
      "total_acc                0\n",
      "bad_loan                 0\n",
      "longest_credit_length    0\n",
      "verification_status      0\n",
      "dtype: int64\n",
      "Categorical Features:\n",
      " Index(['term', 'home_ownership', 'purpose', 'addr_state',\n",
      "       'verification_status'],\n",
      "      dtype='object') \n",
      " No of categorical features: 5\n"
     ]
    }
   ],
   "source": [
    "df=load_data()\n",
    "df=feature_engg(df)"
   ]
  },
  {
   "cell_type": "code",
   "execution_count": 26,
   "metadata": {},
   "outputs": [
    {
     "data": {
      "text/plain": [
       "array([0.09157668, 0.0145167 , 0.1230132 , 0.07445993, 0.02578255,\n",
       "       0.0995623 , 0.05932976, 0.08517634, 0.09661904, 0.0339789 ,\n",
       "       0.09342862, 0.08952872, 0.09003056, 0.0229967 ])"
      ]
     },
     "execution_count": 26,
     "metadata": {},
     "output_type": "execute_result"
    }
   ],
   "source": [
    "#To check feature importances\n",
    "x=df.drop('bad_loan',axis=1)\n",
    "y=df['bad_loan']\n",
    "model=ExtraTreesRegressor()\n",
    "model.fit(x,y)\n",
    "model.feature_importances_"
   ]
  },
  {
   "cell_type": "code",
   "execution_count": 27,
   "metadata": {},
   "outputs": [
    {
     "data": {
      "text/plain": [
       "<matplotlib.axes._subplots.AxesSubplot at 0x8bae490>"
      ]
     },
     "execution_count": 27,
     "metadata": {},
     "output_type": "execute_result"
    },
    {
     "data": {
      "image/png": "[encoded data removed]",
      "text/plain": [
       "<Figure size 432x288 with 1 Axes>"
      ]
     },
     "metadata": {
      "needs_background": "light"
     },
     "output_type": "display_data"
    }
   ],
   "source": [
    "df_feat=pd.Series(model.feature_importances_,index=x.columns)\n",
    "df_feat.nlargest(5).plot(kind='barh')"
   ]
  },
  {
   "cell_type": "code",
   "execution_count": 32,
   "metadata": {},
   "outputs": [
    {
     "name": "stdout",
     "output_type": "stream",
     "text": [
      "(131189, 14) (131189,) (32798, 14) (32798,)\n",
      "Accuracy: 0.8160253674004513\n",
      "Confusion Matrix:\n",
      " [[26555   274]\n",
      " [ 5760   209]]\n",
      "Classification Report:\n",
      "               precision    recall  f1-score   support\n",
      "\n",
      "           0       0.82      0.99      0.90     26829\n",
      "           1       0.43      0.04      0.06      5969\n",
      "\n",
      "    accuracy                           0.82     32798\n",
      "   macro avg       0.63      0.51      0.48     32798\n",
      "weighted avg       0.75      0.82      0.75     32798\n",
      "\n",
      "Accuracy with Cross Validation: 0.816369572613896\n"
     ]
    }
   ],
   "source": [
    "lr=construct_model(df)"
   ]
  },
  {
   "cell_type": "code",
   "execution_count": 33,
   "metadata": {},
   "outputs": [],
   "source": [
    "import pickle\n",
    "file=open(\"loan_prediction.pkl\",\"wb\")\n",
    "pickle.dump(lr,file)"
   ]
  },
  {
   "cell_type": "code",
   "execution_count": 66,
   "metadata": {},
   "outputs": [
    {
     "data": {
      "text/plain": [
       "array([5, 4, 1, 3, 2, 0])"
      ]
     },
     "execution_count": 66,
     "metadata": {},
     "output_type": "execute_result"
    }
   ],
   "source": [
    "df.home_ownership.unique()"
   ]
  },
  {
   "cell_type": "code",
   "execution_count": 70,
   "metadata": {},
   "outputs": [
    {
     "data": {
      "text/plain": [
       "array([ 3, 10, 14,  4, 42, 44, 24,  6, 43,  9, 33, 37, 23, 30, 36, 17, 34,\n",
       "       39, 38, 18, 19, 46, 47,  1, 32,  5, 20, 48, 45, 22,  7, 40, 27,  2,\n",
       "       16, 31, 11,  0, 35, 26, 49, 29,  8, 25, 41, 12, 28, 13, 15, 21])"
      ]
     },
     "execution_count": 70,
     "metadata": {},
     "output_type": "execute_result"
    }
   ],
   "source": [
    "df.addr_state.unique()"
   ]
  },
  {
   "cell_type": "code",
   "execution_count": 59,
   "metadata": {},
   "outputs": [
    {
     "data": {
      "text/plain": [
       "loan_amnt                5000.000000\n",
       "term                        0.000000\n",
       "int_rate                   10.650000\n",
       "emp_length                 10.000000\n",
       "home_ownership              5.000000\n",
       "annual_inc                 10.085809\n",
       "purpose                     1.000000\n",
       "addr_state                  3.000000\n",
       "dti                        27.650000\n",
       "delinq_2yrs                 0.000000\n",
       "revol_util                 83.700000\n",
       "total_acc                   9.000000\n",
       "bad_loan                    0.000000\n",
       "longest_credit_length      26.000000\n",
       "verification_status         1.000000\n",
       "Name: 0, dtype: float64"
      ]
     },
     "execution_count": 59,
     "metadata": {},
     "output_type": "execute_result"
    }
   ],
   "source": [
    "df.iloc[0]"
   ]
  },
  {
   "cell_type": "code",
   "execution_count": 80,
   "metadata": {},
   "outputs": [
    {
     "data": {
      "text/plain": [
       "array([0, 1])"
      ]
     },
     "execution_count": 80,
     "metadata": {},
     "output_type": "execute_result"
    }
   ],
   "source": [
    "df.term.unique()"
   ]
  }
 ],
 "metadata": {
  "kernelspec": {
   "display_name": "Python 3",
   "language": "python",
   "name": "python3"
  },
  "language_info": {
   "codemirror_mode": {
    "name": "ipython",
    "version": 3
   },
   "file_extension": ".py",
   "mimetype": "text/x-python",
   "name": "python",
   "nbconvert_exporter": "python",
   "pygments_lexer": "ipython3",
   "version": "3.7.4"
  }
 },
 "nbformat": 4,
 "nbformat_minor": 2
}
